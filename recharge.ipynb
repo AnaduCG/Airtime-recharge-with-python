{
 "cells": [
  {
   "cell_type": "code",
   "execution_count": 2,
   "metadata": {},
   "outputs": [
    {
     "name": "stdout",
     "output_type": "stream",
     "text": [
      "Pin: 3189426546\n",
      "Code: *555* \n",
      "example: *555*pin#\n",
      "proudly sponsored by 'Anadu'\n",
      "your recharge of 9100 naira was successful\n"
     ]
    }
   ],
   "source": [
    "import random\n",
    "\n",
    "card = (f\"{random.randrange(100_000_000_00)}\")\n",
    "amount =(f\"{ random.randrange(100, 10_000, 100)}\")\n",
    "code = '*555*'\n",
    "complete = (code + card + '#')\n",
    "recharge = ''\n",
    "print(f\"\"\"Pin: {card}\n",
    "Code: {code} \n",
    "example: {code}pin#\n",
    "proudly sponsored by 'Anadu'\"\"\")\n",
    "while recharge != complete:\n",
    "    i = 0\n",
    "    while i < 5:\n",
    "        i += 1\n",
    "        recharge = input(f\"Enter Your recharge pin here use {code}pin#: \")\n",
    "        if recharge == complete:\n",
    "            print(f\"your recharge of {amount} naira was successful\")\n",
    "            break\n",
    "        else:\n",
    "            print('Recharge unsuccessful!')\n",
    "\n",
    "        print(f\"You only have 5 trials '{5 - i}' remaining\")\n",
    "\n",
    "    else:\n",
    "        print(\"Sorry your line has been suspended for an invalid action\")\n",
    "        break"
   ]
  },
  {
   "cell_type": "code",
   "execution_count": 7,
   "metadata": {},
   "outputs": [
    {
     "name": "stdout",
     "output_type": "stream",
     "text": [
      "Your password is: =60QVU3=gK\n",
      "It,s 10 characters in length\n"
     ]
    }
   ],
   "source": [
    "import random\n",
    "import string\n",
    "\n",
    "password = []\n",
    "\n",
    "\n",
    "password_length = int(input(\"Input desired password length\"))\n",
    "# password_length = 8\n",
    "inc = 0\n",
    "try:\n",
    "    while password_length > 0:\n",
    "        randomLetter = [\n",
    "            random.choice(string.ascii_uppercase),\n",
    "            random.choice(string.ascii_lowercase),\n",
    "            random.choice(string.punctuation),\n",
    "            random.choice(string.digits),\n",
    "        ]\n",
    "\n",
    "        inc += 1\n",
    "        add_to_password = random.choice(randomLetter)\n",
    "        password.append(add_to_password)\n",
    "        lett = ''.join(password)\n",
    "        if inc == password_length:\n",
    "            break\n",
    "    print(f\"\"\"Password generated: {lett}\n",
    "Password length: ({len(lett)})\"\"\")\n",
    "\n",
    "except (NameError):\n",
    "    print(\"Password length must be greater than ZERO 0\")\n"
   ]
  }
 ],
 "metadata": {
  "kernelspec": {
   "display_name": "Python 3",
   "language": "python",
   "name": "python3"
  },
  "language_info": {
   "codemirror_mode": {
    "name": "ipython",
    "version": 3
   },
   "file_extension": ".py",
   "mimetype": "text/x-python",
   "name": "python",
   "nbconvert_exporter": "python",
   "pygments_lexer": "ipython3",
   "version": "3.11.0"
  },
  "orig_nbformat": 4,
  "vscode": {
   "interpreter": {
    "hash": "55d79064c9feea42e3a8cfbb2405178717b1dca6d0bc079cb76543bbdc9394ef"
   }
  }
 },
 "nbformat": 4,
 "nbformat_minor": 2
}
