{
 "cells": [
  {
   "cell_type": "code",
   "execution_count": 3,
   "metadata": {},
   "outputs": [
    {
     "name": "stdout",
     "output_type": "stream",
     "text": [
      "Pin: 9321777834\n",
      "Code: *555* \n",
      "example: *555*pin#\n",
      "proudly sponsored by 'Anadu'\n",
      "your recharge of 4300 naira was successful\n"
     ]
    }
   ],
   "source": [
    "import random\n",
    "\n",
    "card = (f\"{random.randrange(100_000_000_00)}\")\n",
    "amount =(f\"{ random.randrange(100, 10_000, 100)}\")\n",
    "code = '*555*'\n",
    "complete = (code + card + '#')\n",
    "recharge = ''\n",
    "print(f\"\"\"Pin: {card}\n",
    "Code: {code} \n",
    "example: {code}pin#\n",
    "proudly sponsored by 'Anadu'\"\"\")\n",
    "while recharge != complete:\n",
    "    i = 0\n",
    "    while i < 5:\n",
    "        i += 1\n",
    "        recharge = input(f\"Enter Your recharge pin here use {code}pin#: \")\n",
    "        if recharge == complete:\n",
    "            print(f\"your recharge of {amount} naira was successful\")\n",
    "            break\n",
    "        else:\n",
    "            print('Recharge unsuccessful!')\n",
    "\n",
    "        print(f\"You only have 5 trials '{5 - i}' remaining\")\n",
    "\n",
    "    else:\n",
    "        print(\"Sorry your line has been suspended for an invalid action\")\n",
    "        break"
   ]
  }
 ],
 "metadata": {
  "kernelspec": {
   "display_name": "Python 3",
   "language": "python",
   "name": "python3"
  },
  "language_info": {
   "codemirror_mode": {
    "name": "ipython",
    "version": 3
   },
   "file_extension": ".py",
   "mimetype": "text/x-python",
   "name": "python",
   "nbconvert_exporter": "python",
   "pygments_lexer": "ipython3",
   "version": "3.11.0 (main, Oct 24 2022, 18:26:48) [MSC v.1933 64 bit (AMD64)]"
  },
  "orig_nbformat": 4,
  "vscode": {
   "interpreter": {
    "hash": "55d79064c9feea42e3a8cfbb2405178717b1dca6d0bc079cb76543bbdc9394ef"
   }
  }
 },
 "nbformat": 4,
 "nbformat_minor": 2
}
